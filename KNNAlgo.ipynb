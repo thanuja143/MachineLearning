{
 "cells": [
  {
   "cell_type": "code",
   "execution_count": 7,
   "metadata": {},
   "outputs": [],
   "source": [
    "import numpy as np"
   ]
  },
  {
   "cell_type": "code",
   "execution_count": 13,
   "metadata": {},
   "outputs": [],
   "source": [
    "import math\n",
    "def cal_euclidean_dist(data1,data2,length):\n",
    "    distance=0\n",
    "    for x in range(length):\n",
    "        distance+=pow((data1[x]-data2[x]),2)\n",
    "    return math.sqrt(distance)"
   ]
  },
  {
   "cell_type": "code",
   "execution_count": 14,
   "metadata": {},
   "outputs": [
    {
     "name": "stdout",
     "output_type": "stream",
     "text": [
      "9.433981132056603\n"
     ]
    }
   ],
   "source": [
    "X_train = [1,2,3,4,5,6]\n",
    "y_train = [5,6,7,8,9,9]\n",
    "\n",
    "\n",
    "distance=cal_euclidean_dist(X_train,y_train,6)\n",
    "print('Distance is: 'distance)"
   ]
  },
  {
   "cell_type": "code",
   "execution_count": 19,
   "metadata": {},
   "outputs": [],
   "source": [
    "import operator\n",
    "def getNeighbors(trainingset,testInstance,k):\n",
    "    distance=[]\n",
    "    for x in range(len(trainingset)):\n",
    "        dist=cal_euclidean_dist(testInstance,trainingset[x],len(testInstance))\n",
    "        distance.append((trainingset[x],dist))\n",
    "    distance.sort(key=operator.itemgetter(1))\n",
    "    neighbors=[]\n",
    "    for x in range(k):\n",
    "        neighbors.append(distance[x][0])\n",
    "    return neighbors\n",
    "        "
   ]
  },
  {
   "cell_type": "code",
   "execution_count": 20,
   "metadata": {},
   "outputs": [
    {
     "name": "stdout",
     "output_type": "stream",
     "text": [
      "[[4, 4, 4]]\n"
     ]
    }
   ],
   "source": [
    "trainingset=[[3,3,3],[4,4,4]]\n",
    "testInstance=[5,5,5]\n",
    "\n",
    "k=1\n",
    "\n",
    "neighbors=getNeighbors(trainingset,testInstance,k)\n",
    "print(neighbors)"
   ]
  },
  {
   "cell_type": "code",
   "execution_count": null,
   "metadata": {},
   "outputs": [],
   "source": []
  }
 ],
 "metadata": {
  "kernelspec": {
   "display_name": "Python 3",
   "language": "python",
   "name": "python3"
  },
  "language_info": {
   "codemirror_mode": {
    "name": "ipython",
    "version": 3
   },
   "file_extension": ".py",
   "mimetype": "text/x-python",
   "name": "python",
   "nbconvert_exporter": "python",
   "pygments_lexer": "ipython3",
   "version": "3.6.5"
  }
 },
 "nbformat": 4,
 "nbformat_minor": 2
}
